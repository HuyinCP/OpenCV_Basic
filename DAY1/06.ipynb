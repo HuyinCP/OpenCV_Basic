{
 "cells": [
  {
   "cell_type": "code",
   "execution_count": null,
   "id": "4770bae1",
   "metadata": {},
   "outputs": [],
   "source": [
    "from PIL import Image\n",
    "from imgtools import *"
   ]
  },
  {
   "cell_type": "code",
   "execution_count": null,
   "id": "2d429e86",
   "metadata": {},
   "outputs": [],
   "source": [
    "image_path = r\"C:\\Users\\Huy\\OneDrive\\Desktop\\LearnOpenCV\\DAY1\\2.jpg\""
   ]
  },
  {
   "cell_type": "code",
   "execution_count": null,
   "id": "2497a5c2",
   "metadata": {},
   "outputs": [],
   "source": [
    "img = load_image(image_path)\n",
    "display(img)"
   ]
  },
  {
   "cell_type": "code",
   "execution_count": null,
   "id": "1102dd3c",
   "metadata": {},
   "outputs": [],
   "source": [
    "gray_image = img.convert(\"L\")\n",
    "display(gray_image)"
   ]
  },
  {
   "cell_type": "code",
   "execution_count": null,
   "id": "52f4351c",
   "metadata": {},
   "outputs": [],
   "source": [
    "red_band, green_band, blue_band = img.split()\n",
    "display(red_band)\n",
    "display(green_band)\n",
    "display(blue_band)\n",
    "\n"
   ]
  },
  {
   "cell_type": "code",
   "execution_count": null,
   "id": "9d551350",
   "metadata": {},
   "outputs": [],
   "source": [
    "merged_image = Image.merge(\"RGB\", (green_band, green_band, blue_band))\n",
    "display(merged_image)"
   ]
  }
 ],
 "metadata": {
  "kernelspec": {
   "display_name": "Python 3",
   "language": "python",
   "name": "python3"
  },
  "language_info": {
   "codemirror_mode": {
    "name": "ipython",
    "version": 3
   },
   "file_extension": ".py",
   "mimetype": "text/x-python",
   "name": "python",
   "nbconvert_exporter": "python",
   "pygments_lexer": "ipython3",
   "version": "3.13.2"
  }
 },
 "nbformat": 4,
 "nbformat_minor": 5
}
