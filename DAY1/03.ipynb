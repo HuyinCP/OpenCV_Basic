{
 "cells": [
  {
   "cell_type": "code",
   "execution_count": null,
   "id": "4770bae1",
   "metadata": {},
   "outputs": [],
   "source": [
    "from PIL import Image\n",
    "from imgtools import *"
   ]
  },
  {
   "cell_type": "code",
   "execution_count": null,
   "id": "2d429e86",
   "metadata": {},
   "outputs": [],
   "source": [
    "image_path = r\"C:\\Users\\Huy\\OneDrive\\Desktop\\LearnOpenCV\\DAY1\\2.jpg\""
   ]
  },
  {
   "cell_type": "code",
   "execution_count": null,
   "id": "2497a5c2",
   "metadata": {},
   "outputs": [],
   "source": [
    "img = load_image(image_path)\n",
    "print(img.size)\n",
    "display(img)"
   ]
  },
  {
   "cell_type": "code",
   "execution_count": null,
   "id": "6ee10013",
   "metadata": {},
   "outputs": [],
   "source": [
    "new_size_1 = (1000, 1000)\n",
    "new_image_1 = img.resize(new_size_1)\n",
    "display(new_image_1)"
   ]
  },
  {
   "cell_type": "code",
   "execution_count": null,
   "id": "7cfbfa06",
   "metadata": {},
   "outputs": [],
   "source": [
    "thumbnail_size = (50, 50)\n",
    "img.thumbnail(thumbnail_size)\n",
    "display(img)"
   ]
  }
 ],
 "metadata": {
  "kernelspec": {
   "display_name": "Python 3",
   "language": "python",
   "name": "python3"
  },
  "language_info": {
   "codemirror_mode": {
    "name": "ipython",
    "version": 3
   },
   "file_extension": ".py",
   "mimetype": "text/x-python",
   "name": "python",
   "nbconvert_exporter": "python",
   "pygments_lexer": "ipython3",
   "version": "3.13.2"
  }
 },
 "nbformat": 4,
 "nbformat_minor": 5
}
