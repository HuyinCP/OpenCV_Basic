{
 "cells": [
  {
   "cell_type": "code",
   "execution_count": null,
   "id": "4770bae1",
   "metadata": {},
   "outputs": [],
   "source": [
    "from PIL import Image\n",
    "from imgtools import *"
   ]
  },
  {
   "cell_type": "code",
   "execution_count": null,
   "id": "2d429e86",
   "metadata": {},
   "outputs": [],
   "source": [
    "image_path = r\"C:\\Users\\Huy\\OneDrive\\Desktop\\LearnOpenCV\\DAY1\\2.jpg\""
   ]
  },
  {
   "cell_type": "code",
   "execution_count": null,
   "id": "2497a5c2",
   "metadata": {},
   "outputs": [],
   "source": [
    "img = load_image(image_path)\n",
    "print(img.size)\n",
    "display(img)"
   ]
  },
  {
   "cell_type": "code",
   "execution_count": null,
   "id": "2f145cc4",
   "metadata": {},
   "outputs": [],
   "source": [
    "rorated_image = img.rotate(270)\n",
    "display(rorated_image)"
   ]
  },
  {
   "cell_type": "code",
   "execution_count": null,
   "id": "21d7084b",
   "metadata": {},
   "outputs": [],
   "source": [
    "transposed_image = img.transpose(Image.Transpose.ROTATE_90)\n",
    "display(transposed_image)"
   ]
  }
 ],
 "metadata": {
  "kernelspec": {
   "display_name": "Python 3",
   "language": "python",
   "name": "python3"
  },
  "language_info": {
   "codemirror_mode": {
    "name": "ipython",
    "version": 3
   },
   "file_extension": ".py",
   "mimetype": "text/x-python",
   "name": "python",
   "nbconvert_exporter": "python",
   "pygments_lexer": "ipython3",
   "version": "3.13.2"
  }
 },
 "nbformat": 4,
 "nbformat_minor": 5
}
