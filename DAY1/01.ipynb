{
 "cells": [
  {
   "cell_type": "code",
   "execution_count": null,
   "id": "bc76ffbd",
   "metadata": {},
   "outputs": [],
   "source": [
    "from PIL import Image"
   ]
  },
  {
   "cell_type": "code",
   "execution_count": null,
   "id": "221dc6cb",
   "metadata": {},
   "outputs": [],
   "source": [
    "image_path = r\"C:\\Users\\Huy\\OneDrive\\Desktop\\LearnOpenCV\\DAY1\\1.jpg\"\n",
    "print(image_path)"
   ]
  },
  {
   "cell_type": "code",
   "execution_count": null,
   "id": "ae933b60",
   "metadata": {},
   "outputs": [],
   "source": [
    "# Use Image.open() to read image\n",
    "im01 = Image.open(image_path)"
   ]
  },
  {
   "cell_type": "code",
   "execution_count": null,
   "id": "8de70b0e",
   "metadata": {},
   "outputs": [],
   "source": [
    "# Display the image\n",
    "im01.show()"
   ]
  },
  {
   "cell_type": "code",
   "execution_count": null,
   "id": "a8c061aa",
   "metadata": {},
   "outputs": [],
   "source": [
    "# Show Image format\n",
    "print(\"Image format: \" +  im01.format)"
   ]
  },
  {
   "cell_type": "code",
   "execution_count": null,
   "id": "b625e2a0",
   "metadata": {},
   "outputs": [],
   "source": [
    "# Show Image size \n",
    "print(\"Image size: \",  im01.size)"
   ]
  },
  {
   "cell_type": "code",
   "execution_count": null,
   "id": "145d4cc9",
   "metadata": {},
   "outputs": [],
   "source": [
    "# Save image\n",
    "new_im01_path =  r\"C:\\Users\\Huy\\OneDrive\\Desktop\\LearnOpenCV\\DAY1\\new1.jpg\"\n",
    "im01.save(new_im01_path)"
   ]
  },
  {
   "cell_type": "code",
   "execution_count": null,
   "id": "38ce9384",
   "metadata": {},
   "outputs": [],
   "source": [
    "# Close the file\n",
    "im01.close()"
   ]
  }
 ],
 "metadata": {
  "kernelspec": {
   "display_name": "Python 3",
   "language": "python",
   "name": "python3"
  },
  "language_info": {
   "codemirror_mode": {
    "name": "ipython",
    "version": 3
   },
   "file_extension": ".py",
   "mimetype": "text/x-python",
   "name": "python",
   "nbconvert_exporter": "python",
   "pygments_lexer": "ipython3",
   "version": "3.13.2"
  }
 },
 "nbformat": 4,
 "nbformat_minor": 5
}
