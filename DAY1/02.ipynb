{
 "cells": [
  {
   "cell_type": "code",
   "execution_count": null,
   "id": "bc76ffbd",
   "metadata": {},
   "outputs": [],
   "source": [
    "from PIL import Image\n",
    "from DAY1.imgtools import *"
   ]
  },
  {
   "cell_type": "code",
   "execution_count": null,
   "id": "221dc6cb",
   "metadata": {},
   "outputs": [],
   "source": [
    "image_path = r\"C:\\Users\\Huy\\OneDrive\\Desktop\\LearnOpenCV\\DAY1\\1.jpg\""
   ]
  },
  {
   "cell_type": "code",
   "execution_count": null,
   "id": "e3c7fcfa",
   "metadata": {},
   "outputs": [],
   "source": [
    "# Read multiple images\n",
    "folder_path = r\"C:\\Users\\Huy\\OneDrive\\Desktop\\LearnOpenCV\\DAY1\"\n",
    "imgs = get_image_list(folder_path)\n",
    "print(imgs)"
   ]
  },
  {
   "cell_type": "code",
   "execution_count": null,
   "id": "c60b9914",
   "metadata": {},
   "outputs": [],
   "source": [
    "# Display the image\n",
    "for img in imgs:\n",
    "    print(img.size)\n",
    "    display(img)"
   ]
  }
 ],
 "metadata": {
  "kernelspec": {
   "display_name": "Python 3",
   "language": "python",
   "name": "python3"
  },
  "language_info": {
   "codemirror_mode": {
    "name": "ipython",
    "version": 3
   },
   "file_extension": ".py",
   "mimetype": "text/x-python",
   "name": "python",
   "nbconvert_exporter": "python",
   "pygments_lexer": "ipython3",
   "version": "3.13.2"
  }
 },
 "nbformat": 4,
 "nbformat_minor": 5
}
