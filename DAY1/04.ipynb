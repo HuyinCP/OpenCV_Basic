{
 "cells": [
  {
   "cell_type": "code",
   "execution_count": null,
   "id": "4770bae1",
   "metadata": {},
   "outputs": [],
   "source": [
    "from PIL import Image\n",
    "from imgtools import *"
   ]
  },
  {
   "cell_type": "code",
   "execution_count": null,
   "id": "2d429e86",
   "metadata": {},
   "outputs": [],
   "source": [
    "image_path = r\"C:\\Users\\Huy\\OneDrive\\Desktop\\LearnOpenCV\\DAY1\\2.jpg\""
   ]
  },
  {
   "cell_type": "code",
   "execution_count": null,
   "id": "2497a5c2",
   "metadata": {},
   "outputs": [],
   "source": [
    "img = load_image(image_path)\n",
    "print(img.size)\n",
    "display(img)"
   ]
  },
  {
   "cell_type": "code",
   "execution_count": null,
   "id": "74ead364",
   "metadata": {},
   "outputs": [],
   "source": [
    "region = (1100, 300, 4500, 3200)\n",
    "cropped_img = img.crop(region)\n",
    "display(cropped_img)"
   ]
  },
  {
   "cell_type": "code",
   "execution_count": null,
   "id": "aa0686dc",
   "metadata": {},
   "outputs": [],
   "source": [
    "past_position = (250, 250)\n",
    "img.paste(cropped_img, past_position)\n",
    "display(img)"
   ]
  }
 ],
 "metadata": {
  "kernelspec": {
   "display_name": "Python 3",
   "language": "python",
   "name": "python3"
  },
  "language_info": {
   "codemirror_mode": {
    "name": "ipython",
    "version": 3
   },
   "file_extension": ".py",
   "mimetype": "text/x-python",
   "name": "python",
   "nbconvert_exporter": "python",
   "pygments_lexer": "ipython3",
   "version": "3.13.2"
  }
 },
 "nbformat": 4,
 "nbformat_minor": 5
}
